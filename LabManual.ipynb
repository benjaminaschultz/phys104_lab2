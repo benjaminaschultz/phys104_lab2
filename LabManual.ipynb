{
 "cells": [
  {
   "cell_type": "markdown",
   "metadata": {
    "deletable": false
   },
   "source": [
    "# Lab 2: Acceleration due to gravity\n",
    "\n",
    "In this lab we are going to measure the acceleration due to gravity $g$ by dropping a ball and constructing a motion diagram using a digital camera.\n",
    "\n",
    "We will measure the separation of the falling object in adjacent frames in our motion diagram, and use our knowledge of one dimensional dynamics to compute its acceleration.\n",
    "\n",
    "## Procedure\n",
    "1. Select a mass to use as your falling object.\n",
    "\n",
    "2. In front of the blackboard, drop the mass at the when your instruction signals you\n",
    "\n",
    "3. Return to your desk and wait for the intructor to inform your that your video is ready for processing\n",
    "\n",
    "4. Follow the instructions to identify the first frame of the video to use in your motion diagram\n",
    "\n",
    "5. Run the program to compute your motion diagram\n",
    "\n",
    "6. Record the position of the falling object in pixels\n",
    "\n",
    "7. Use the meter stick in your image to convert from pixels to meters\n",
    "\n",
    "8. Pass your data to the fitting program to determine the objects initial velocity and its acceleration\n",
    "\n",
    "9. Collect values from 5 other classmates and compute the standard error\n",
    "\n",
    "There are some follow up questions that follow. Complete them and submit your lab notebook.\n",
    "\n",
    "The instructor will help one student at a time record a video of them dropping an object in front of the black board.\n",
    "\n",
    "## Warm Up\n",
    "\n",
    "To get an idea of how this will proceed, Consider the digram below. You may assume the object is moving right and the adjacent snapshots are taken 2 times per second.\n",
    "\n",
    "Like an object in free-fall, this object is experiencing uniform acceleration. It's motion is described by\n",
    "\n",
    "$$ y(t) = y_0 + v_{0} t + \\frac{1}{2} g t^2 $$\n",
    "\n"
   ]
  },
  {
   "cell_type": "code",
   "execution_count": null,
   "metadata": {
    "deletable": false,
    "editable": false,
    "scrolled": false
   },
   "outputs": [],
   "source": [
    "%matplotlib notebook\n",
    "\n",
    "from utils import draw_warm_up_diagram\n",
    "draw_warm_up_diagram()"
   ]
  },
  {
   "cell_type": "markdown",
   "metadata": {},
   "source": [
    "|frame| time(s) | position (m) |\n",
    "|-----| --------|--------------|\n",
    "| 1   |         |              |\n",
    "| 2   |         |              |\n",
    "| 3   |         |              |\n",
    "| 4   |         |              |\n",
    "| 5   |         |              |"
   ]
  },
  {
   "cell_type": "markdown",
   "metadata": {
    "deletable": false,
    "editable": false
   },
   "source": [
    "Now compute its average velocity between each adjacent snapshot"
   ]
  },
  {
   "cell_type": "markdown",
   "metadata": {},
   "source": [
    "\n",
    "| interval |frames| $\\Delta t$(s) | $\\Delta y$(m)|$\\bar{v}$ (m/s)|\n",
    "|----------|------|---------------|--------------|---------------|\n",
    "|  a       |1 - 2 |               |              |               |\n",
    "|  b       |2 - 3 |               |              |               |\n",
    "|  c       |3 - 4 |               |              |               |\n",
    "|  d       |4 - 5 |               |              |               |\n"
   ]
  },
  {
   "cell_type": "markdown",
   "metadata": {
    "deletable": false,
    "editable": false
   },
   "source": [
    "Now use it's change in velocity to compute the acceleration. For this task you may assume the average velocity you computed above is the instantaneous velocity in the middle of the time interval.\n"
   ]
  },
  {
   "cell_type": "markdown",
   "metadata": {},
   "source": [
    "|intervals| $\\Delta t$(s) | \\Delta v (m/s) |$\\bar{a}$ (m/s<sup>2</sup>)|\n",
    "|---------|---------------|--------------|---------------|\n",
    "| a - b   |               |              |               |\n",
    "| b - c   |               |              |               |\n",
    "| c - d   |               |              |               |"
   ]
  },
  {
   "cell_type": "markdown",
   "metadata": {
    "deletable": false,
    "editable": false
   },
   "source": [
    "\n",
    "If we took one more snapshot of the object, what would its position be?"
   ]
  },
  {
   "cell_type": "markdown",
   "metadata": {},
   "source": [
    "*your answer here*"
   ]
  },
  {
   "cell_type": "markdown",
   "metadata": {
    "deletable": false,
    "editable": false
   },
   "source": [
    "## Video Analysis and calculation of $g$\n",
    "\n",
    "This section will step you through constructing your motion diagram. First execute the cell below by selecting it and hitting `ctrl/cmd + enter`. When a number in brackets appears to its left, you'll know it has executed. This cell loads some code that we will execute later in the notebook"
   ]
  },
  {
   "cell_type": "code",
   "execution_count": null,
   "metadata": {
    "deletable": false,
    "editable": false
   },
   "outputs": [],
   "source": [
    "from utils import *"
   ]
  },
  {
   "cell_type": "markdown",
   "metadata": {
    "deletable": false,
    "editable": false
   },
   "source": [
    "In the cell below, enter the filename of the video you'd like to load. It'll be first name followed by \"\\_trial1\" and \"MTS\" file extension e.g. `ben_trial1.MTS`. Enter the correct text and hit execute the cell."
   ]
  },
  {
   "cell_type": "code",
   "execution_count": null,
   "metadata": {},
   "outputs": [],
   "source": [
    "fname = 'ben_trial1.MTS'"
   ]
  },
  {
   "cell_type": "markdown",
   "metadata": {
    "deletable": false,
    "editable": false
   },
   "source": [
    "Display the video below and play it to make sure it's the correct file. Execute the cell to render the video."
   ]
  },
  {
   "cell_type": "code",
   "execution_count": null,
   "metadata": {
    "deletable": false,
    "editable": false
   },
   "outputs": [],
   "source": [
    "display_video(fname)"
   ]
  },
  {
   "cell_type": "markdown",
   "metadata": {
    "deletable": false,
    "editable": false
   },
   "source": [
    "We're going to be selecting a few frames of this video to combine into a motion diagram. The first step is selecting when to start constructing our diagram. In the cell below change the `start_frame` argument to different numbers to find the first frame where your object has crossed the line on the chalkboard. You can start at 0 and increase until it crosses the line"
   ]
  },
  {
   "cell_type": "code",
   "execution_count": null,
   "metadata": {
    "scrolled": false
   },
   "outputs": [],
   "source": [
    "#edit this value\n",
    "start_frame = 0\n",
    "\n",
    "\n",
    "# don't edit below this line\n",
    "display_frame(fname, start_frame)"
   ]
  },
  {
   "cell_type": "markdown",
   "metadata": {
    "deletable": false,
    "editable": false
   },
   "source": [
    "Now that we know where to start, we can call the function to actually compute the diagram. It will average 5 samples from your video at a rate of 15 samples per second. When you execute the code below, it will store a series of times values (in seconds) in a variable called `ts` and it will store a snapshot of the video at each moment in a variable `frames`.\n",
    "\n",
    "Then it calls the `display_motion_diagram` function to display your motion diagram.\n",
    "\n",
    "Execute this cell."
   ]
  },
  {
   "cell_type": "code",
   "execution_count": null,
   "metadata": {
    "deletable": false,
    "editable": false
   },
   "outputs": [],
   "source": [
    "ts, frames = sample_video(filename=fname, start_frame=start_frame, nframes=5)\n",
    "display_motion_diagram(frames)"
   ]
  },
  {
   "cell_type": "markdown",
   "metadata": {
    "deletable": false,
    "editable": false
   },
   "source": [
    "Using the motion diagram above, record the `y` position of the ball. If you hover your cursor over the image, it will display the coordinates of your cursor in the lower right. Selecting the box icon in the lower left will allow you to zoom in. Hitting the home icon will reset the view.\n",
    "\n",
    "Edit the cell below to contain the values you observe. It will look something like\n",
    "\n",
    "```\n",
    "ys = [\n",
    "    224.95,\n",
    "    305.23,\n",
    "    428.69,\n",
    "    599.29,\n",
    "    806.49\n",
    "]\n",
    "```\n",
    "when you are done."
   ]
  },
  {
   "cell_type": "code",
   "execution_count": null,
   "metadata": {},
   "outputs": [],
   "source": [
    "ys = [\n",
    "    ##### fill in you values here\n",
    "    ##### remember to follow each number with a comma\n",
    "]"
   ]
  },
  {
   "cell_type": "markdown",
   "metadata": {
    "deletable": false,
    "editable": false
   },
   "source": [
    "Now we we have the height measured in pixels. In order to compute the acceleration in meters, we need to convert these measurements into meters. Use the meter stick pictured in your motion diagram to determine the conversion factor between meters and pixels. Record that value in the cell below for `pixels_per_meter` and execute it."
   ]
  },
  {
   "cell_type": "code",
   "execution_count": null,
   "metadata": {},
   "outputs": [],
   "source": [
    "# this will look like \n",
    "# pixels_per_meter = 926.35\n",
    "pixels_per_meter =  "
   ]
  },
  {
   "cell_type": "markdown",
   "metadata": {
    "deletable": false,
    "editable": false
   },
   "source": [
    "Next, we'll use a curve-fitting function to fit the data to the curve predicted by our theory\n",
    "\n",
    "$$ y(y) = y_0 + v_0 t + \\frac{1}{2} a t^2$$\n",
    "\n",
    "The function `estimate_acceleration` varies the values of $y_0$, $v_0$ and $a$ until it finds the parameters that best match your observed data. It essentially automates the work you did in the warm up exercise.\n",
    "\n",
    "It will also plot the data you observed against theoretical predictions using the values of $v_0$ and $a$.\n",
    "\n",
    "You do not need to edit the cell below, just execute it."
   ]
  },
  {
   "cell_type": "code",
   "execution_count": null,
   "metadata": {
    "deletable": false,
    "editable": false
   },
   "outputs": [],
   "source": [
    "y0, v0, a = estimate_acceleration(pixels_per_meter, ts, ys)\n",
    "\n",
    "print(f'''\n",
    "The velocity of the object when it crossed the line on the blackboard was {v0:0.2f} m/s\n",
    "The object is accelerating at {a:0.2f} m/s^2\n",
    "''')"
   ]
  },
  {
   "cell_type": "markdown",
   "metadata": {
    "deletable": false,
    "editable": false
   },
   "source": [
    "For the final part of the lab, collect results from 4 of your neighbors Compute the average. Use these to estimate the overall precision of your measurement by computing the standard error, $\\sigma_{SE}$.\n",
    "\n",
    "$$ \\sigma_{SE} = \\frac{\\sigma_a}{\\sqrt{N - 1}} $$\n",
    "\n",
    "where $\\sigma_a$ is the standard deviation of the values you computed for $a$.\n",
    "\n",
    "\n",
    "Record the values in table in the editable cell below."
   ]
  },
  {
   "cell_type": "markdown",
   "metadata": {},
   "source": [
    "| Student| Value |\n",
    "|--------|-------|\n",
    "|  name  | result|\n",
    "|  name  | result|\n",
    "|  name  | result|\n",
    "|  name  | result|\n",
    "|  name  | result|"
   ]
  },
  {
   "cell_type": "markdown",
   "metadata": {
    "deletable": false,
    "editable": false
   },
   "source": [
    "Average of these values is your final experimental measurement of $g_{exp}$, the acceleration of gravity.\n"
   ]
  },
  {
   "cell_type": "markdown",
   "metadata": {},
   "source": [
    "\n",
    "$$ g_{exp} = <FILLINYOURANSWER> m/s^2$$"
   ]
  },
  {
   "cell_type": "markdown",
   "metadata": {
    "deletable": false,
    "editable": false
   },
   "source": [
    "\n",
    "The uncertainty in your answer is $\\sigma_{SE}$. It represents the precision of the measurement you made."
   ]
  },
  {
   "cell_type": "markdown",
   "metadata": {
    "deletable": false,
    "editable": false
   },
   "source": [
    "\n",
    "\n",
    "$$ \\sigma_{SE} = <FILLINYOURANSWER> m/s^2$$\n"
   ]
  },
  {
   "cell_type": "markdown",
   "metadata": {
    "deletable": false,
    "editable": false
   },
   "source": [
    "Does the accepted value of $g = 9.8 m/s^2$ fall within $g_{exp} \\pm \\sigma_{SE}$?\n"
   ]
  },
  {
   "cell_type": "markdown",
   "metadata": {},
   "source": [
    "*your answer here*"
   ]
  },
  {
   "cell_type": "markdown",
   "metadata": {
    "deletable": false,
    "editable": false
   },
   "source": [
    "## Final Questions\n",
    "\n",
    "1) What are some potential sources of error in this experiment that come from its design?"
   ]
  },
  {
   "cell_type": "markdown",
   "metadata": {},
   "source": [
    "*Your answer here*"
   ]
  },
  {
   "cell_type": "markdown",
   "metadata": {
    "deletable": false,
    "editable": false
   },
   "source": [
    "2) What are some sources of error that come from physics? Have we neglected any things you know that occur in real life?"
   ]
  },
  {
   "cell_type": "markdown",
   "metadata": {},
   "source": [
    "*your answer here*"
   ]
  },
  {
   "cell_type": "markdown",
   "metadata": {
    "deletable": false,
    "editable": false
   },
   "source": [
    "3) If we completed this experiment one hundred more times and observed the same standard deviation in our individual measurements ($\\sigma_a$), how many times smaller would our uncertainty / standard error ($\\sigma_SE$) be?"
   ]
  },
  {
   "cell_type": "markdown",
   "metadata": {},
   "source": [
    "*your answer here*"
   ]
  }
 ],
 "metadata": {
  "celltoolbar": "Edit Metadata",
  "kernelspec": {
   "display_name": "Python 3",
   "language": "python",
   "name": "python3"
  },
  "language_info": {
   "codemirror_mode": {
    "name": "ipython",
    "version": 3
   },
   "file_extension": ".py",
   "mimetype": "text/x-python",
   "name": "python",
   "nbconvert_exporter": "python",
   "pygments_lexer": "ipython3",
   "version": "3.8.5"
  }
 },
 "nbformat": 4,
 "nbformat_minor": 4
}
